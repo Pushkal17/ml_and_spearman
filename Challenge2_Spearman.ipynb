{
 "cells": [
  {
   "cell_type": "markdown",
   "metadata": {},
   "source": [
    "## Challenge #2: Spearman’s Footrule Distance\n",
    "Suppose we have several different methods for scoring a set of items; perhaps we’re asking different people, or using different scoring algorithms. We’d like to figure out how to aggregate these to produce a single combined ranking.\n",
    "A useful tool here is Spearman’s Footrule Distance which computes the distance between two rankings (Don’t worry, we don’t expect you to have heard of this before, we expect you to do some Googling…)\n",
    "Your task here is to implement a function with the following signature:\n",
    "def sumSpearmanDistances(scores, proposedRanking):\n",
    "    “””Calculate the sum of Spearman’s Footrule Distances for a given proposedRanking.\n",
    "    scores : A dict of {itemId: tuple of scores} e.g. {‘A’: [100, 0.1], ‘B’: [90, 0.3], ‘C’: [20, 0.2]} \n",
    "        means that item ‘A’ was given a score of 100 by metric 1 and a score of 0.1 by metric 2 etc\n",
    "    proposedRanking : An ordered list of itemIds where the first entry is the proposed-best and last entry is \n",
    "        the proposed worst e.g. [‘A’, ‘B’, ‘C’]\n",
    "    “””\n",
    "Please think about splitting your function into appropriate sub-functions and add tests to demonstrate that everything works as expected. You may assume in your implementation that higher score = better. You can implement this as a Jupyter notebook, or a standalone Python module. "
   ]
  },
  {
   "cell_type": "code",
   "execution_count": 1,
   "metadata": {},
   "outputs": [],
   "source": [
    "import numpy as np"
   ]
  },
  {
   "cell_type": "markdown",
   "metadata": {},
   "source": [
    "## Solution:\n",
    "The following implementation will calculate Sum Spearman Footrule Distances (SSD).\n",
    "Sub-functions (methods) are created to compute, test and automate various aspects of this algorithm"
   ]
  },
  {
   "cell_type": "markdown",
   "metadata": {},
   "source": [
    "Here we define a sumSpearmanDistances() function that computes Sum Spearman Distances as follows: \n",
    "\\begin{equation} \n",
    "SSD=\\sum_{i=0}^D |{v_i^{one}-v_i^{two}}|\n",
    "\\end{equation}\n",
    "where $V^{one}$ and $V^{two}$ are two vectors for which distance is computed, and D is the size of these vectors, Size($V^{one}$)=Size($V^{two}$)=D.\n",
    "\n",
    "Also, in calculating SSD, we define two helper functions as follows:\n",
    "\n",
    "(a) get_ranking(vector): \n",
    "a function that takes a vector and return ranks of items in that vector (higher score=better or \n",
    "topmost ranking).\n",
    "\n",
    "(b) get_distance(vector1,vector2): \n",
    "compute absolute pairwise differences between vector1 and vector2."
   ]
  },
  {
   "cell_type": "code",
   "execution_count": 2,
   "metadata": {},
   "outputs": [],
   "source": [
    "def get_ranking(vector):\n",
    "    '''''\n",
    "    Input\n",
    "        vector: 1-D vector with numeric (integer or float) values\n",
    "    Output\n",
    "        ranks: transformation or vector to 1-D ranks using arguments sorting\n",
    "    '''''\n",
    "    ranks=abs(np.argsort(vector)-len(vector))\n",
    "    return ranks"
   ]
  },
  {
   "cell_type": "code",
   "execution_count": 3,
   "metadata": {},
   "outputs": [
    {
     "name": "stdout",
     "output_type": "stream",
     "text": [
      "Expected ranks [3 1 2], \n",
      "Obtained ranks [3 1 2]\n",
      "\n",
      "Test pass for [3 1 2]\n"
     ]
    }
   ],
   "source": [
    "#test get_ranking\n",
    "ranks=get_ranking([0.1,0.4,0.24])\n",
    "print(\"Expected ranks [3 1 2], \\nObtained ranks\",ranks)\n",
    "\n",
    "#for large vectors this can be automated as follows\n",
    "expected_ranks=[3, 1, 2]\n",
    "if sum(ranks==expected_ranks)==len(ranks):\n",
    "    print(\"\\nTest pass for\",ranks)\n",
    "else:\n",
    "    print(\"\\nError\")"
   ]
  },
  {
   "cell_type": "code",
   "execution_count": 4,
   "metadata": {},
   "outputs": [],
   "source": [
    "def get_distance(vector1,vector2):\n",
    "    '''''\n",
    "    Input\n",
    "        vector1: 1-D vector with ranks\n",
    "        vector2: 1-D vector with ranks\n",
    "    Output\n",
    "        returns 1-D vector having absolute pair-wise differences from vector 1 and vector 2\n",
    "    '''''\n",
    "\n",
    "    length1=len(vector1)\n",
    "    length2=len(vector2)\n",
    "    #print(length1,length2,(length1>0)&(length2>0)&(length1==length2))\n",
    "    if (length1>0)&(length2>0)&(length1==length2):\n",
    "        return abs(vector1-vector2)\n",
    "    else:\n",
    "        print(\"Vector mismatch or missing\")\n",
    "        return \"\""
   ]
  },
  {
   "cell_type": "code",
   "execution_count": 5,
   "metadata": {},
   "outputs": [
    {
     "name": "stdout",
     "output_type": "stream",
     "text": [
      "[0 1 1]\n",
      "Expected output:\n",
      "numpy array [0 1 1]\n"
     ]
    }
   ],
   "source": [
    "#test get_distance\n",
    "abs_distance=get_distance(np.array([1,1,-2]),np.array([1,2,-1]))\n",
    "print(abs_distance)\n",
    "print(\"Expected output:\\nnumpy array [0 1 1]\")"
   ]
  },
  {
   "cell_type": "code",
   "execution_count": 6,
   "metadata": {},
   "outputs": [],
   "source": [
    "def sumSpearmanDistances(scores, proposedRanking):\n",
    "    '''''\n",
    "    Input\n",
    "        scores: ratings which determine two different ranking\n",
    "        proposedRanking: final proposed ranking, against which the distance is calculated\n",
    "    Output\n",
    "        distance: the final sum of absolute differences in rankings in two vectors\n",
    "    '''''\n",
    "    #extract scores and get ranks i.e. index number in decensing order. 1 means the highest rank.\n",
    "    #use get_ranking() function as defined above (a)\n",
    "    vector1=[scores[i][0] for i in proposedRanking]\n",
    "    vector1=get_ranking(vector1)\n",
    "    vector2=[scores[i][1] for i in proposedRanking]\n",
    "    vector2=get_ranking(vector2)\n",
    "    #print(vector1,vector2)\n",
    "    \n",
    "    #compute Spearman Distances using the above defined method (b)\n",
    "    distance=get_distance(vector1,vector2)\n",
    "    #print(distance)\n",
    "    \n",
    "    #now compute SSD i.e. sum of distances\n",
    "    sum_distance=sum(distance)\n",
    "    return(sum_distance)"
   ]
  },
  {
   "cell_type": "code",
   "execution_count": 7,
   "metadata": {},
   "outputs": [
    {
     "name": "stdout",
     "output_type": "stream",
     "text": [
      "Computed SSD= 4\n",
      "Expected SSD= 4\n"
     ]
    }
   ],
   "source": [
    "#now test the above \n",
    "ssd=sumSpearmanDistances(scores={'A': [100, 0.1], 'B': [90, 0.3], 'C': [20, 0.2]},\n",
    "                     proposedRanking=['A', 'B', 'C'])\n",
    "print(\"Computed SSD=\",ssd)\n",
    "print(\"Expected SSD= 4\")\n"
   ]
  },
  {
   "cell_type": "code",
   "execution_count": 8,
   "metadata": {},
   "outputs": [
    {
     "name": "stdout",
     "output_type": "stream",
     "text": [
      "SSD 0\n",
      "Pass\n",
      "SSD 8\n",
      "Pass\n",
      "SSD 4\n",
      "Pass\n"
     ]
    }
   ],
   "source": [
    "#more testing vectors with already known SSD\n",
    "test=[]\n",
    "test.append({'scores':{'A': [1, 0.1], 'B': [20, 0.3], 'C': [100, 2]},\n",
    "                     'proposedRanking':['A', 'B', 'C'],'expectedSSD':0})\n",
    "test.append({'scores':{'A': [120, 0.1], 'B': [100, 0.3], 'C': [20, 2],'D': [12, 2]},\n",
    "                     'proposedRanking':['A', 'B', 'C','D'],'expectedSSD':8})\n",
    "test.append({'scores':{'A': [1,3], 'B': [2,1.5], 'C': [2.5,2]},\n",
    "                     'proposedRanking':['C', 'B', 'A'],'expectedSSD':4})\n",
    "#test\n",
    "for i in test:\n",
    "    ssd=sumSpearmanDistances(scores=i['scores'],\n",
    "                     proposedRanking=i['proposedRanking'])\n",
    "    print(\"SSD\",ssd)\n",
    "    if ssd==i['expectedSSD']:\n",
    "        print(\"Pass\")\n",
    "    else: \n",
    "        print(\"Fail!!!!!!!!!\")"
   ]
  },
  {
   "cell_type": "markdown",
   "metadata": {},
   "source": [
    "## Summary\n",
    "Time complexity depends on (assuming n=number of elements in vector):\n",
    "- get_ranking(): O(nlog(n)), as it involves sorting\n",
    "- get_distance(): O(n), pairwise distance \n",
    "- Hence, sumSpearmanDistances() function has overall complexity O(nlog(n)).\n",
    "\n",
    "Higher the score of metrics, higher is the ranking.\n",
    "\n",
    "Reference: https://people.revoledu.com/kardi/tutorial/Similarity/FootruleDistance.html"
   ]
  },
  {
   "cell_type": "code",
   "execution_count": null,
   "metadata": {},
   "outputs": [],
   "source": []
  }
 ],
 "metadata": {
  "kernelspec": {
   "display_name": "Python (mypython)",
   "language": "python",
   "name": "env_demo1"
  },
  "language_info": {
   "codemirror_mode": {
    "name": "ipython",
    "version": 3
   },
   "file_extension": ".py",
   "mimetype": "text/x-python",
   "name": "python",
   "nbconvert_exporter": "python",
   "pygments_lexer": "ipython3",
   "version": "3.8.5"
  }
 },
 "nbformat": 4,
 "nbformat_minor": 4
}

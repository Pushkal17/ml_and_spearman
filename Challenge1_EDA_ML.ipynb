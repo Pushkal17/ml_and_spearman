{
 "cells": [
  {
   "cell_type": "markdown",
   "metadata": {},
   "source": [
    "## Challenge #1: Breast Cancer Dataset EDA"
   ]
  },
  {
   "cell_type": "markdown",
   "metadata": {},
   "source": [
    "The “wdbc” data-set you will be working with can be downloaded from here: https://archive.ics.uci.edu/ml/datasets/Breast+Cancer+Wisconsin+%28Prognostic%29\n",
    "Please produce a well-presented Jupyter notebook – including any visualisations you feel are useful – which addresses the following:\n",
    "a.\tWhat are the mean, median and standard deviation of the “perimeter” feature?\n",
    "b.\tIs the first feature in this data set (the “radius”) normally distributed? Quantify your answer. If not, what might be a more appropriate distribution?\n",
    "c.\tTrain a classifier to predict the diagnosis of malignant or benign. Compare the results of two classifiers e.g. SVM, logistic regression, decision tree etc."
   ]
  },
  {
   "cell_type": "code",
   "execution_count": 1,
   "metadata": {},
   "outputs": [],
   "source": [
    "#Requirements and settings\n",
    "#python3.8\n",
    "#Installations: pandas, numpy,sklearn, matplotlib, math and scipy"
   ]
  },
  {
   "cell_type": "code",
   "execution_count": 2,
   "metadata": {},
   "outputs": [],
   "source": [
    "#library imports\n",
    "import pandas as pd\n",
    "import numpy as np\n",
    "\n",
    "from sklearn import preprocessing\n",
    "from sklearn.model_selection import train_test_split\n",
    "\n",
    "from sklearn.linear_model import LogisticRegression\n",
    "from sklearn import svm\n",
    "from sklearn.ensemble import RandomForestClassifier\n",
    "\n",
    "from sklearn.metrics import f1_score, roc_curve\n",
    "\n",
    "import matplotlib.pyplot as plt\n",
    "import math\n",
    "from scipy import stats"
   ]
  },
  {
   "cell_type": "code",
   "execution_count": 3,
   "metadata": {},
   "outputs": [],
   "source": [
    "#function to import and clean file\n",
    "def get_data(file=\"\"):\n",
    "    '''\n",
    "    Input\n",
    "        file: the file name with full path if not in the current directory.\n",
    "    Output\n",
    "        dataframe: returns a pandas dataframe after reading from path. This will return 0 if the file is not found.\n",
    "    '''\n",
    "    #handling base cases. Also a try-except to catch missing file error.\n",
    "    if file==\"\" or file==None:\n",
    "        print(\"File not found: Use proper file name\")\n",
    "        return 0\n",
    "    else:\n",
    "        try:\n",
    "            data=pd.read_csv(file,header=None)\n",
    "            print(\"File reading complete. File shape:\",data.shape)\n",
    "            #Use clean_data() function\n",
    "            #Skipping clean_data() implementation for now as it is given that there are no missing attribute in data.\n",
    "            #Cross checked missing values using \"np.sum(dataset.isna(),axis=0).sum()\", and found none.\n",
    "            return data\n",
    "        except:\n",
    "            print(\"File does not exist\")\n",
    "            return 0"
   ]
  },
  {
   "cell_type": "code",
   "execution_count": 4,
   "metadata": {},
   "outputs": [
    {
     "name": "stdout",
     "output_type": "stream",
     "text": [
      "File reading complete. File shape: (569, 32)\n"
     ]
    },
    {
     "data": {
      "text/html": [
       "<div>\n",
       "<style scoped>\n",
       "    .dataframe tbody tr th:only-of-type {\n",
       "        vertical-align: middle;\n",
       "    }\n",
       "\n",
       "    .dataframe tbody tr th {\n",
       "        vertical-align: top;\n",
       "    }\n",
       "\n",
       "    .dataframe thead th {\n",
       "        text-align: right;\n",
       "    }\n",
       "</style>\n",
       "<table border=\"1\" class=\"dataframe\">\n",
       "  <thead>\n",
       "    <tr style=\"text-align: right;\">\n",
       "      <th></th>\n",
       "      <th>0</th>\n",
       "      <th>1</th>\n",
       "      <th>2</th>\n",
       "      <th>3</th>\n",
       "      <th>4</th>\n",
       "      <th>5</th>\n",
       "      <th>6</th>\n",
       "      <th>7</th>\n",
       "      <th>8</th>\n",
       "      <th>9</th>\n",
       "      <th>...</th>\n",
       "      <th>22</th>\n",
       "      <th>23</th>\n",
       "      <th>24</th>\n",
       "      <th>25</th>\n",
       "      <th>26</th>\n",
       "      <th>27</th>\n",
       "      <th>28</th>\n",
       "      <th>29</th>\n",
       "      <th>30</th>\n",
       "      <th>31</th>\n",
       "    </tr>\n",
       "  </thead>\n",
       "  <tbody>\n",
       "    <tr>\n",
       "      <th>0</th>\n",
       "      <td>842302</td>\n",
       "      <td>M</td>\n",
       "      <td>17.99</td>\n",
       "      <td>10.38</td>\n",
       "      <td>122.80</td>\n",
       "      <td>1001.0</td>\n",
       "      <td>0.11840</td>\n",
       "      <td>0.27760</td>\n",
       "      <td>0.3001</td>\n",
       "      <td>0.14710</td>\n",
       "      <td>...</td>\n",
       "      <td>25.38</td>\n",
       "      <td>17.33</td>\n",
       "      <td>184.60</td>\n",
       "      <td>2019.0</td>\n",
       "      <td>0.1622</td>\n",
       "      <td>0.6656</td>\n",
       "      <td>0.7119</td>\n",
       "      <td>0.2654</td>\n",
       "      <td>0.4601</td>\n",
       "      <td>0.11890</td>\n",
       "    </tr>\n",
       "    <tr>\n",
       "      <th>1</th>\n",
       "      <td>842517</td>\n",
       "      <td>M</td>\n",
       "      <td>20.57</td>\n",
       "      <td>17.77</td>\n",
       "      <td>132.90</td>\n",
       "      <td>1326.0</td>\n",
       "      <td>0.08474</td>\n",
       "      <td>0.07864</td>\n",
       "      <td>0.0869</td>\n",
       "      <td>0.07017</td>\n",
       "      <td>...</td>\n",
       "      <td>24.99</td>\n",
       "      <td>23.41</td>\n",
       "      <td>158.80</td>\n",
       "      <td>1956.0</td>\n",
       "      <td>0.1238</td>\n",
       "      <td>0.1866</td>\n",
       "      <td>0.2416</td>\n",
       "      <td>0.1860</td>\n",
       "      <td>0.2750</td>\n",
       "      <td>0.08902</td>\n",
       "    </tr>\n",
       "    <tr>\n",
       "      <th>2</th>\n",
       "      <td>84300903</td>\n",
       "      <td>M</td>\n",
       "      <td>19.69</td>\n",
       "      <td>21.25</td>\n",
       "      <td>130.00</td>\n",
       "      <td>1203.0</td>\n",
       "      <td>0.10960</td>\n",
       "      <td>0.15990</td>\n",
       "      <td>0.1974</td>\n",
       "      <td>0.12790</td>\n",
       "      <td>...</td>\n",
       "      <td>23.57</td>\n",
       "      <td>25.53</td>\n",
       "      <td>152.50</td>\n",
       "      <td>1709.0</td>\n",
       "      <td>0.1444</td>\n",
       "      <td>0.4245</td>\n",
       "      <td>0.4504</td>\n",
       "      <td>0.2430</td>\n",
       "      <td>0.3613</td>\n",
       "      <td>0.08758</td>\n",
       "    </tr>\n",
       "    <tr>\n",
       "      <th>3</th>\n",
       "      <td>84348301</td>\n",
       "      <td>M</td>\n",
       "      <td>11.42</td>\n",
       "      <td>20.38</td>\n",
       "      <td>77.58</td>\n",
       "      <td>386.1</td>\n",
       "      <td>0.14250</td>\n",
       "      <td>0.28390</td>\n",
       "      <td>0.2414</td>\n",
       "      <td>0.10520</td>\n",
       "      <td>...</td>\n",
       "      <td>14.91</td>\n",
       "      <td>26.50</td>\n",
       "      <td>98.87</td>\n",
       "      <td>567.7</td>\n",
       "      <td>0.2098</td>\n",
       "      <td>0.8663</td>\n",
       "      <td>0.6869</td>\n",
       "      <td>0.2575</td>\n",
       "      <td>0.6638</td>\n",
       "      <td>0.17300</td>\n",
       "    </tr>\n",
       "    <tr>\n",
       "      <th>4</th>\n",
       "      <td>84358402</td>\n",
       "      <td>M</td>\n",
       "      <td>20.29</td>\n",
       "      <td>14.34</td>\n",
       "      <td>135.10</td>\n",
       "      <td>1297.0</td>\n",
       "      <td>0.10030</td>\n",
       "      <td>0.13280</td>\n",
       "      <td>0.1980</td>\n",
       "      <td>0.10430</td>\n",
       "      <td>...</td>\n",
       "      <td>22.54</td>\n",
       "      <td>16.67</td>\n",
       "      <td>152.20</td>\n",
       "      <td>1575.0</td>\n",
       "      <td>0.1374</td>\n",
       "      <td>0.2050</td>\n",
       "      <td>0.4000</td>\n",
       "      <td>0.1625</td>\n",
       "      <td>0.2364</td>\n",
       "      <td>0.07678</td>\n",
       "    </tr>\n",
       "  </tbody>\n",
       "</table>\n",
       "<p>5 rows × 32 columns</p>\n",
       "</div>"
      ],
      "text/plain": [
       "         0  1      2      3       4       5        6        7       8   \\\n",
       "0    842302  M  17.99  10.38  122.80  1001.0  0.11840  0.27760  0.3001   \n",
       "1    842517  M  20.57  17.77  132.90  1326.0  0.08474  0.07864  0.0869   \n",
       "2  84300903  M  19.69  21.25  130.00  1203.0  0.10960  0.15990  0.1974   \n",
       "3  84348301  M  11.42  20.38   77.58   386.1  0.14250  0.28390  0.2414   \n",
       "4  84358402  M  20.29  14.34  135.10  1297.0  0.10030  0.13280  0.1980   \n",
       "\n",
       "        9   ...     22     23      24      25      26      27      28      29  \\\n",
       "0  0.14710  ...  25.38  17.33  184.60  2019.0  0.1622  0.6656  0.7119  0.2654   \n",
       "1  0.07017  ...  24.99  23.41  158.80  1956.0  0.1238  0.1866  0.2416  0.1860   \n",
       "2  0.12790  ...  23.57  25.53  152.50  1709.0  0.1444  0.4245  0.4504  0.2430   \n",
       "3  0.10520  ...  14.91  26.50   98.87   567.7  0.2098  0.8663  0.6869  0.2575   \n",
       "4  0.10430  ...  22.54  16.67  152.20  1575.0  0.1374  0.2050  0.4000  0.1625   \n",
       "\n",
       "       30       31  \n",
       "0  0.4601  0.11890  \n",
       "1  0.2750  0.08902  \n",
       "2  0.3613  0.08758  \n",
       "3  0.6638  0.17300  \n",
       "4  0.2364  0.07678  \n",
       "\n",
       "[5 rows x 32 columns]"
      ]
     },
     "execution_count": 4,
     "metadata": {},
     "output_type": "execute_result"
    }
   ],
   "source": [
    "#reading the desired wdbc.data datset file in pandas dataframe for analysis\n",
    "dataset=get_data(\"dataset/wdbc.data\")\n",
    "dataset.head()"
   ]
  },
  {
   "cell_type": "code",
   "execution_count": 5,
   "metadata": {},
   "outputs": [
    {
     "data": {
      "text/plain": [
       "Index(['id_number', 'diagnosis', 'radius_mean', 'texture_mean',\n",
       "       'perimeter_mean', 'area_mean', 'smoothness_mean', 'compactness_mean',\n",
       "       'concavity_mean', 'concave_points_mean', 'symmetry_mean',\n",
       "       'fractal_dimension_mean', 'radius_std_error', 'texture_std_error',\n",
       "       'perimeter_std_error', 'area_std_error', 'smoothness_std_error',\n",
       "       'compactness_std_error', 'concavity_std_error',\n",
       "       'concave_points_std_error', 'symmetry_std_error',\n",
       "       'fractal_dimension_std_error', 'radius_max', 'texture_max',\n",
       "       'perimeter_max', 'area_max', 'smoothness_max', 'compactness_max',\n",
       "       'concavity_max', 'concave_points_max', 'symmetry_max',\n",
       "       'fractal_dimension_max'],\n",
       "      dtype='object')"
      ]
     },
     "execution_count": 5,
     "metadata": {},
     "output_type": "execute_result"
    }
   ],
   "source": [
    "#Updating datset column names using names listed in wdbc.names file\n",
    "#Root features names. These features are from the cell nucleus data collected form tested patients.\n",
    "features_names=[\"radius\", \"texture\", \"perimeter\", \"area\", \"smoothness\", \"compactness\", \"concavity\", \"concave_points\", \"symmetry\", \"fractal_dimension\"]\n",
    "\n",
    "#adding suffices in features names(10 features X3 metrics, i.e mean, standard error and maximum) \n",
    "features_mean=[s + \"_mean\" for s in features_names]\n",
    "features_std_error=[s + \"_std_error\" for s in features_names]\n",
    "features_max=[s + \"_max\" for s in features_names]\n",
    "\n",
    "#merging all names and updating as dataset columns\n",
    "dataset.columns=[\"id_number\",\"diagnosis\"]+features_mean+features_std_error+features_max\n",
    "dataset.columns"
   ]
  },
  {
   "cell_type": "markdown",
   "metadata": {},
   "source": [
    "-----\n",
    "-----\n",
    "### Challenge 1a. What are the mean, median and standard deviation of the “perimeter” feature?"
   ]
  },
  {
   "cell_type": "code",
   "execution_count": 6,
   "metadata": {},
   "outputs": [
    {
     "data": {
      "text/plain": [
       "{'mean': 91.96903339191564,\n",
       " 'median': 86.24,\n",
       " 'standard deviation': 24.298981038754906}"
      ]
     },
     "execution_count": 6,
     "metadata": {},
     "output_type": "execute_result"
    }
   ],
   "source": [
    "def get_stats(df=None,column=None):\n",
    "    '''\n",
    "    Input\n",
    "        df: a dataframe\n",
    "        column: column name for which we need to compute the stats\n",
    "    Output\n",
    "        Dictionary: this will return a dictionary with stats and 0 in case the column or dataframe is missing.\n",
    "    '''\n",
    "    if len(df)==0:\n",
    "        print(\"Dataframe does not exist.\")\n",
    "        return 0\n",
    "    else:\n",
    "        if column in dataset.columns:\n",
    "            return {\"mean\":df[column].mean(),\n",
    "                    \"median\":df[column].median(),\n",
    "                    \"standard deviation\":df[column].std()}\n",
    "        else:\n",
    "            print(\"Dataframe does not have this column name.\")\n",
    "            return 0\n",
    "\n",
    "#getting stats on column parameter\n",
    "get_stats(df=dataset,column=\"perimeter_mean\")\n",
    "\n"
   ]
  },
  {
   "cell_type": "markdown",
   "metadata": {},
   "source": [
    "-----\n",
    "-----\n",
    "### Challenge 1b. \n",
    "Is the first feature in this data set (the “radius”) normally distributed? Quantify your answer. \n",
    "If not, what might be a more appropriate distribution?\n",
    "\n",
    "### Solution: \n",
    "We check this qualitatively using plot and quantitatively using statistical tests as follows.\n"
   ]
  },
  {
   "cell_type": "code",
   "execution_count": 7,
   "metadata": {},
   "outputs": [
    {
     "name": "stdout",
     "output_type": "stream",
     "text": [
      "mean 14.127291739894552 \n",
      "std 3.5240488262120775 \n",
      "sum of std error -1.0191847366058937e-13\n"
     ]
    },
    {
     "data": {
      "image/png": "[encoded data removed]",
      "text/plain": [
       "<Figure size 432x288 with 1 Axes>"
      ]
     },
     "metadata": {
      "needs_background": "light"
     },
     "output_type": "display_data"
    }
   ],
   "source": [
    "#Qualitative check: Histogram to empirically check the bell shaped normal distribution\n",
    "series=dataset[\"radius_mean\"]\n",
    "mu=get_stats(df=dataset,column=\"radius_mean\")[\"mean\"]\n",
    "sigma=get_stats(df=dataset,column=\"radius_mean\")[\"standard deviation\"]\n",
    "print(\"mean\",mu,\"\\nstd\",sigma,\"\\nsum of std error\",sum((series-mu)/sigma))\n",
    "\n",
    "plt.hist(series, 25, density=True)\n",
    "x = np.linspace(mu - 3*sigma, mu + 3*sigma, 100)\n",
    "plt.plot(x, stats.norm.pdf(x, mu, sigma),color=\"red\")\n",
    "plt.xlabel('Value')\n",
    "plt.ylabel('Fraction of instances')\n",
    "plt.title('Histogram of \"radius\" feature')\n",
    "plt.show()"
   ]
  },
  {
   "cell_type": "markdown",
   "metadata": {},
   "source": [
    "### Inference from the above plot:\n",
    "The plot shows on y-axis= fraction of instances in that bin and x-axis= value of the feature.\n",
    "The blue bars are actual data points in bins and the red line is normal distribution based on mean and sigma.\n",
    "We see that the distribution (blue bars) is not perfectly overlapping with the expected normal line (in red).\n",
    "Moreover, we empirically observe a bimodal distribution with two modes here, one near value=12 and another near value=19.\n",
    "One possible reason could be different (here two) radius size of cells due to cancer development and non development. In case of cancer development, a person's infected cell shapes are abnormally different. "
   ]
  },
  {
   "cell_type": "code",
   "execution_count": 8,
   "metadata": {},
   "outputs": [
    {
     "name": "stdout",
     "output_type": "stream",
     "text": [
      "Stat's test value: 0.9410696029663086\n",
      "Stat's p-value: 3.1061551985026026e-14\n",
      "This is not a normal distribution\n"
     ]
    }
   ],
   "source": [
    "#Quantitative check: Using Shapiro-Wilk Test \n",
    "test_value, p_value=stats.shapiro(series)\n",
    "print(\"Stat's test value:\",test_value)\n",
    "print(\"Stat's p-value:\",p_value)\n",
    "\n",
    "significance=0.05\n",
    "\n",
    "if p_value<0.05:\n",
    "    print(\"This is not a normal distribution\")\n",
    "else:\n",
    "    print(\"This is a normal distribution\")"
   ]
  },
  {
   "cell_type": "markdown",
   "metadata": {},
   "source": [
    "### Inference from the above statistical test:\n",
    "The stats on radius feature's has p value <0.05 hence we \"reject\" the null hypothesis (i.e. distribution is normal). \n",
    "This means that the distribution of radius is \"not\" Gaussian as there is significant (p<0.05) difference \n",
    "from the expected normal distribution.\n",
    "This is same to which we see from the empirical analysis of plot above, i.e. the distribution is \n",
    "not a normal distribution rather shows a bimodal pattern."
   ]
  },
  {
   "cell_type": "markdown",
   "metadata": {},
   "source": [
    "-----\n",
    "-----\n",
    "### Challenge 1c. Train a classifier to predict the diagnosis of malignant or benign. \n",
    "Compare the results of two classifiers e.g. SVM, logistic regression, decision tree etc.\n",
    "\n",
    "### Solution:\n",
    "Recipe to train and test classifiers is as follows:\n",
    "1. Normalise the data: Mean normalisation\n",
    "2. Split the data: (train:test)\n",
    "3. Build models: Logistic Regression (LR), Support Vector Machine (SVM) and Random Forest (RF)\n",
    "4. Compare performance: Accurary, F1-scores and ROC plot\n"
   ]
  },
  {
   "cell_type": "code",
   "execution_count": 9,
   "metadata": {},
   "outputs": [
    {
     "name": "stdout",
     "output_type": "stream",
     "text": [
      "-->Features matrix\n",
      " [[ 1.09706398 -2.07333501  1.26993369 ...  2.29607613  2.75062224\n",
      "   1.93701461]\n",
      " [ 1.82982061 -0.35363241  1.68595471 ...  1.0870843  -0.24388967\n",
      "   0.28118999]\n",
      " [ 1.57988811  0.45618695  1.56650313 ...  1.95500035  1.152255\n",
      "   0.20139121]\n",
      " ...\n",
      " [ 0.70228425  2.0455738   0.67267578 ...  0.41406869 -1.10454895\n",
      "  -0.31840916]\n",
      " [ 1.83834103  2.33645719  1.98252415 ...  2.28998549  1.91908301\n",
      "   2.21963528]\n",
      " [-1.80840125  1.22179204 -1.81438851 ... -1.74506282 -0.04813821\n",
      "  -0.75120669]]\n",
      "\n",
      "-->Actual labels\n",
      " B    357\n",
      "M    212\n",
      "Name: diagnosis, dtype: int64\n",
      "\n",
      "-->Percentage of each label\n",
      " B    62.741652\n",
      "M    37.258348\n",
      "Name: diagnosis, dtype: float64\n"
     ]
    }
   ],
   "source": [
    "# 1. Taking independent variables (features) in X and normalising them. Also, dependent variable is taken in y.\n",
    "X=dataset.iloc[:,2:32]\n",
    "X\n",
    "scaler = preprocessing.StandardScaler().fit(X)\n",
    "X_scaled = scaler.transform(X)\n",
    "print(\"-->Features matrix\\n\",X_scaled)\n",
    "\n",
    "y=dataset.iloc[:,1]\n",
    "print(\"\\n-->Actual labels\\n\",y.value_counts())\n",
    "print(\"\\n-->Percentage of each label\\n\",y.value_counts()/len(y)*100)\n",
    "#M indicates malignant, i.e. development of cancer"
   ]
  },
  {
   "cell_type": "code",
   "execution_count": 10,
   "metadata": {},
   "outputs": [
    {
     "name": "stdout",
     "output_type": "stream",
     "text": [
      "Shape of X train (455, 30)\n",
      "Shape of X test (114, 30)\n",
      "Shape of y train (455,)\n",
      "Shape of y train (114,)\n"
     ]
    }
   ],
   "source": [
    "#2. Split the data: train:test (80:20)\n",
    "\n",
    "X_train, X_test, y_train, y_test =  train_test_split(X_scaled, y,test_size=0.2,random_state=0)\n",
    "print(\"Shape of X train\",X_train.shape)\n",
    "print(\"Shape of X test\",X_test.shape)\n",
    "print(\"Shape of y train\",y_train.shape)\n",
    "print(\"Shape of y train\",y_test.shape)"
   ]
  },
  {
   "cell_type": "code",
   "execution_count": 11,
   "metadata": {},
   "outputs": [
    {
     "name": "stdout",
     "output_type": "stream",
     "text": [
      "Built: LogisticRegression(random_state=0)\n",
      "Built: SVC(probability=True, random_state=0)\n",
      "Built: RandomForestClassifier(random_state=0)\n"
     ]
    }
   ],
   "source": [
    "#3. build models:\n",
    "# a) Logistic Regression (a linear model),\n",
    "# b) SVM (non-linear gaussian kernel) and \n",
    "# c) Random Forest (bagging)\n",
    "\n",
    "model_lr = LogisticRegression(random_state=0).fit(X_train, y_train)\n",
    "print(\"Built:\",model_lr)\n",
    "\n",
    "model_svm= svm.SVC(random_state=0,probability=True).fit(X_train, y_train)\n",
    "print(\"Built:\",model_svm)\n",
    "\n",
    "model_rf = RandomForestClassifier(n_estimators=100,random_state=0).fit(X_train, y_train)\n",
    "print(\"Built:\",model_rf)\n"
   ]
  },
  {
   "cell_type": "code",
   "execution_count": 12,
   "metadata": {},
   "outputs": [
    {
     "data": {
      "image/png": "[encoded data removed]",
      "text/plain": [
       "<Figure size 432x288 with 1 Axes>"
      ]
     },
     "metadata": {
      "needs_background": "light"
     },
     "output_type": "display_data"
    },
    {
     "name": "stdout",
     "output_type": "stream",
     "text": [
      "                    Model  Accuracy  F1-score\n",
      "1  Support Vector Machine  0.973684  0.967742\n",
      "2           Random Forest  0.964912  0.958333\n",
      "0     Logistic Regression  0.964912  0.957447\n"
     ]
    }
   ],
   "source": [
    "#4. Compare performance\n",
    "# a) Accurary, \n",
    "# b) F1 scores and\n",
    "# c) ROC plots\n",
    "\n",
    "#Compute and store accuracy as well as F1-score\n",
    "performance=[]\n",
    "\n",
    "performance.append([\"Logistic Regression\",model_lr.score(X_test, y_test),\n",
    "                    f1_score(model_lr.predict(X_test),y_test,pos_label=\"M\" )])\n",
    "performance.append([\"Support Vector Machine\",model_svm.score(X_test, y_test),\n",
    "                    f1_score(model_svm.predict(X_test),y_test,pos_label=\"M\" )])\n",
    "performance.append([\"Random Forest\",model_rf.score(X_test, y_test),\n",
    "                    f1_score(model_rf.predict(X_test),y_test,pos_label=\"M\" )])\n",
    "\n",
    "performance=pd.DataFrame(performance,columns=[\"Model\",\"Accuracy\",\"F1-score\"])\n",
    "#Sort based on best F1-Score\n",
    "performance=performance.sort_values(by=\"F1-score\",ascending=False)\n",
    "\n",
    "#Get model probabilities and plot ROC \n",
    "y_pred_rf = model_rf.predict_proba(X_test)[:, 1]\n",
    "fpr_rf, tpr_rf, _ = roc_curve(y_test, y_pred_rf,pos_label=\"M\" )\n",
    "\n",
    "y_pred_lr = model_lr.predict_proba(X_test)[:, 1]\n",
    "fpr_lr, tpr_lr, _ = roc_curve(y_test, y_pred_lr,pos_label=\"M\" )\n",
    "\n",
    "y_pred_svm = model_svm.predict_proba(X_test)[:, 1]\n",
    "fpr_svm, tpr_svm, _ = roc_curve(y_test, y_pred_svm,pos_label=\"M\" )\n",
    "\n",
    "plt.figure(1)\n",
    "plt.plot([0, 1], [0, 1], 'k--')\n",
    "plt.plot(fpr_lr, tpr_lr, label='Logistic Regression')\n",
    "plt.plot(fpr_rf, tpr_rf, label='Random Forest')\n",
    "plt.plot(fpr_svm, tpr_svm, label='Support Vector Machine')\n",
    "plt.xlabel('False positive rate')\n",
    "plt.ylabel('True positive rate')\n",
    "plt.title('ROC curve')\n",
    "plt.legend(loc='best')\n",
    "plt.show()\n",
    "\n",
    "print(performance)"
   ]
  },
  {
   "cell_type": "markdown",
   "metadata": {},
   "source": [
    "### Inference:\n",
    "- We see that on test features (with mean normalisation) all three classifiers perform really well.\n",
    "- We obtain high accuracy, F1-Score and AUC (see performace data frame and ROC plot above)\n",
    "- SVM (using rbf kernel) performs the best with minor improvement over the other classifers\n",
    "- Note: Cross-validation is not performed due to less data. Moreover, random forest does not require cross-validation as it is a bagging classifier using many decision trees.\n"
   ]
  },
  {
   "cell_type": "code",
   "execution_count": null,
   "metadata": {},
   "outputs": [],
   "source": []
  }
 ],
 "metadata": {
  "kernelspec": {
   "display_name": "Python (mypython)",
   "language": "python",
   "name": "env_demo1"
  },
  "language_info": {
   "codemirror_mode": {
    "name": "ipython",
    "version": 3
   },
   "file_extension": ".py",
   "mimetype": "text/x-python",
   "name": "python",
   "nbconvert_exporter": "python",
   "pygments_lexer": "ipython3",
   "version": "3.8.5"
  }
 },
 "nbformat": 4,
 "nbformat_minor": 4
}
